{
 "cells": [
  {
   "cell_type": "markdown",
   "id": "b0cac1b8",
   "metadata": {},
   "source": [
    "## Step 1: Import Libraries"
   ]
  },
  {
   "cell_type": "code",
   "execution_count": null,
   "id": "26770d86",
   "metadata": {},
   "outputs": [],
   "source": [
    "\n",
    "import numpy as np\n",
    "import pandas as pd\n",
    "import tensorflow as tf\n",
    "from tensorflow.keras.models import Model\n",
    "from tensorflow.keras.layers import Input, Conv1D, MaxPooling1D, Flatten, Dense, Dropout, concatenate\n",
    "from sklearn.model_selection import train_test_split\n",
    "import matplotlib.pyplot as plt\n",
    "import seaborn as sns\n"
   ]
  },
  {
   "cell_type": "markdown",
   "id": "a608c01e",
   "metadata": {},
   "source": [
    "## Step 2: Load Asteroseismology Data"
   ]
  },
  {
   "cell_type": "code",
   "execution_count": null,
   "id": "bcae48a8",
   "metadata": {},
   "outputs": [],
   "source": [
    "\n",
    "df = pd.read_csv(\"seismo_data.csv\")  # Load dataset\n",
    "\n",
    "print(\"First 5 rows of the dataset:\")\n",
    "display(df.head())\n",
    "\n",
    "# Extract oscillation and stellar features\n",
    "X_osc = df.iloc[:, :-6].values.reshape(len(df), 200, 1)\n",
    "X_star_params = df.iloc[:, -6:-1].values\n",
    "y_labels = df['label'].values\n",
    "\n",
    "# Train-test split\n",
    "X_osc_train, X_osc_test, X_star_train, X_star_test, y_train, y_test = train_test_split(\n",
    "    X_osc, X_star_params, y_labels, test_size=0.2, random_state=42\n",
    ")\n"
   ]
  },
  {
   "cell_type": "markdown",
   "id": "9ac2e07f",
   "metadata": {},
   "source": [
    "## Step 3: Build the Asteroseismic AI Model"
   ]
  },
  {
   "cell_type": "code",
   "execution_count": null,
   "id": "3221bafe",
   "metadata": {},
   "outputs": [],
   "source": [
    "\n",
    "def build_seismic_model(input_shape_osc, input_shape_star):\n",
    "    \"\"\"Hybrid CNN + Dense Model for Exoplanet Detection\"\"\"\n",
    "    \n",
    "    # Asteroseismic CNN Branch (Oscillations Time-Series)\n",
    "    input_osc = Input(shape=input_shape_osc, name=\"oscillation_input\")\n",
    "    x = Conv1D(filters=32, kernel_size=5, activation='relu')(input_osc)\n",
    "    x = MaxPooling1D(pool_size=2)(x)\n",
    "    x = Conv1D(filters=64, kernel_size=5, activation='relu')(x)\n",
    "    x = MaxPooling1D(pool_size=2)(x)\n",
    "    x = Flatten()(x)\n",
    "    x = Dense(128, activation='relu')(x)\n",
    "    x = Dropout(0.3)(x)\n",
    "\n",
    "    # Stellar Property Dense Branch\n",
    "    input_star = Input(shape=input_shape_star, name=\"stellar_input\")\n",
    "    y = Dense(64, activation='relu')(input_star)\n",
    "    y = Dropout(0.3)(y)\n",
    "    y = Dense(32, activation='relu')(y)\n",
    "\n",
    "    # Merge branches\n",
    "    merged = concatenate([x, y])\n",
    "    final_output = Dense(1, activation='sigmoid')(merged)\n",
    "\n",
    "    model = Model(inputs=[input_osc, input_star], outputs=final_output)\n",
    "    model.compile(optimizer='adam', loss='binary_crossentropy', metrics=['accuracy'])\n",
    "    \n",
    "    return model\n",
    "\n",
    "# Build model\n",
    "model = build_seismic_model(input_shape_osc=(200, 1), input_shape_star=(5,))\n"
   ]
  },
  {
   "cell_type": "markdown",
   "id": "f373684a",
   "metadata": {},
   "source": [
    "## Step 4: Train the Model"
   ]
  },
  {
   "cell_type": "code",
   "execution_count": null,
   "id": "f64f25a1",
   "metadata": {},
   "outputs": [],
   "source": [
    "\n",
    "history = model.fit(\n",
    "    [X_osc_train, X_star_train], y_train,\n",
    "    epochs=20, batch_size=32,\n",
    "    validation_data=([X_osc_test, X_star_test], y_test)\n",
    ")\n"
   ]
  },
  {
   "cell_type": "markdown",
   "id": "ffc8a020",
   "metadata": {},
   "source": [
    "## Step 5: Evaluate the Model"
   ]
  },
  {
   "cell_type": "code",
   "execution_count": null,
   "id": "d07adca9",
   "metadata": {},
   "outputs": [],
   "source": [
    "\n",
    "test_loss, test_acc = model.evaluate([X_osc_test, X_star_test], y_test)\n",
    "print(f\"Test Accuracy: {test_acc:.4f}\")\n"
   ]
  },
  {
   "cell_type": "markdown",
   "id": "3c7c1391",
   "metadata": {},
   "source": [
    "## Step 6: Visualize Training Performance"
   ]
  },
  {
   "cell_type": "code",
   "execution_count": null,
   "id": "065ddd9c",
   "metadata": {},
   "outputs": [],
   "source": [
    "\n",
    "plt.figure(figsize=(8, 5))\n",
    "plt.plot(history.history['accuracy'], label='Training Accuracy')\n",
    "plt.plot(history.history['val_accuracy'], label='Validation Accuracy')\n",
    "plt.xlabel('Epochs')\n",
    "plt.ylabel('Accuracy')\n",
    "plt.legend()\n",
    "plt.title('Model Accuracy over Epochs')\n",
    "plt.show()\n"
   ]
  },
  {
   "cell_type": "markdown",
   "id": "b5481e23",
   "metadata": {},
   "source": [
    "## Step 7: Make Predictions"
   ]
  },
  {
   "cell_type": "code",
   "execution_count": null,
   "id": "91d4bfd0",
   "metadata": {},
   "outputs": [],
   "source": [
    "\n",
    "new_oscillation = X_osc_test[0:1]  # Select sample\n",
    "new_star_params = X_star_test[0:1]\n",
    "\n",
    "# Predict probability\n",
    "prediction = model.predict([new_oscillation, new_star_params])\n",
    "print(f\"Predicted Exoplanet Probability: {prediction[0][0]:.4f}\")\n"
   ]
  },
  {
   "cell_type": "markdown",
   "id": "7f18dd06",
   "metadata": {},
   "source": [
    "## Step 8: Save the Model"
   ]
  },
  {
   "cell_type": "code",
   "execution_count": null,
   "id": "dc37bb61",
   "metadata": {},
   "outputs": [],
   "source": [
    "\n",
    "model.save(\"seismic_exoplanet_model.h5\")  # Save model\n",
    "print(\"Model Saved Successfully!\")\n"
   ]
  }
 ],
 "metadata": {},
 "nbformat": 4,
 "nbformat_minor": 5
}