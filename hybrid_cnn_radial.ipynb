{
 "cells": [
  {
   "cell_type": "markdown",
   "id": "5a214b14",
   "metadata": {},
   "source": [
    "## Step 1: Import Libraries"
   ]
  },
  {
   "cell_type": "code",
   "execution_count": null,
   "id": "655acefc",
   "metadata": {},
   "outputs": [],
   "source": [
    "\n",
    "import numpy as np\n",
    "import pandas as pd\n",
    "import tensorflow as tf\n",
    "from tensorflow.keras.models import Model\n",
    "from tensorflow.keras.layers import Input, Conv1D, MaxPooling1D, Flatten, Dense, Dropout, concatenate\n",
    "from sklearn.model_selection import train_test_split\n",
    "import matplotlib.pyplot as plt\n",
    "import seaborn as sns\n"
   ]
  },
  {
   "cell_type": "markdown",
   "id": "2cb71691",
   "metadata": {},
   "source": [
    "## Step 2: Load NASA Exoplanet Data"
   ]
  },
  {
   "cell_type": "code",
   "execution_count": null,
   "id": "f0d9a548",
   "metadata": {},
   "outputs": [],
   "source": [
    "\n",
    "df = pd.read_csv(\"exo_data.csv\")  # Load dataset\n",
    "\n",
    "print(\"First 5 rows of the dataset:\")\n",
    "display(df.head())\n",
    "\n",
    "# Extract time-series and RV features\n",
    "X_light_curves = df.iloc[:, :-6].values.reshape(len(df), 200, 1)\n",
    "X_rv = df.iloc[:, -6:-1].values\n",
    "y_labels = df['label'].values\n",
    "\n",
    "# Train-test split\n",
    "X_light_train, X_light_test, X_rv_train, X_rv_test, y_train, y_test = train_test_split(\n",
    "    X_light_curves, X_rv, y_labels, test_size=0.2, random_state=42\n",
    ")\n"
   ]
  },
  {
   "cell_type": "markdown",
   "id": "5bcf7741",
   "metadata": {},
   "source": [
    "## Step 3: Build the Hybrid AI Model"
   ]
  },
  {
   "cell_type": "code",
   "execution_count": null,
   "id": "a114157c",
   "metadata": {},
   "outputs": [],
   "source": [
    "\n",
    "def build_hybrid_model(input_shape_lightcurve, input_shape_rv):\n",
    "    \"\"\"Hybrid CNN + Dense Model for Exoplanet Detection\"\"\"\n",
    "    \n",
    "    # Light Curve CNN Branch\n",
    "    input_light = Input(shape=input_shape_lightcurve, name=\"light_curve_input\")\n",
    "    x = Conv1D(filters=32, kernel_size=5, activation='relu')(input_light)\n",
    "    x = MaxPooling1D(pool_size=2)(x)\n",
    "    x = Conv1D(filters=64, kernel_size=5, activation='relu')(x)\n",
    "    x = MaxPooling1D(pool_size=2)(x)\n",
    "    x = Flatten()(x)\n",
    "    x = Dense(128, activation='relu')(x)\n",
    "    x = Dropout(0.3)(x)\n",
    "\n",
    "    # Radial Velocity Dense Branch\n",
    "    input_rv = Input(shape=input_shape_rv, name=\"rv_input\")\n",
    "    y = Dense(64, activation='relu')(input_rv)\n",
    "    y = Dropout(0.3)(y)\n",
    "    y = Dense(32, activation='relu')(y)\n",
    "\n",
    "    # Merge branches\n",
    "    merged = concatenate([x, y])\n",
    "    final_output = Dense(1, activation='sigmoid')(merged)\n",
    "\n",
    "    model = Model(inputs=[input_light, input_rv], outputs=final_output)\n",
    "    model.compile(optimizer='adam', loss='binary_crossentropy', metrics=['accuracy'])\n",
    "    \n",
    "    return model\n",
    "\n",
    "# Build model\n",
    "model = build_hybrid_model(input_shape_lightcurve=(200, 1), input_shape_rv=(5,))\n"
   ]
  },
  {
   "cell_type": "markdown",
   "id": "e2c950e8",
   "metadata": {},
   "source": [
    "## Step 4: Train the Model"
   ]
  },
  {
   "cell_type": "code",
   "execution_count": null,
   "id": "319f0a6c",
   "metadata": {},
   "outputs": [],
   "source": [
    "\n",
    "history = model.fit(\n",
    "    [X_light_train, X_rv_train], y_train,\n",
    "    epochs=20, batch_size=32,\n",
    "    validation_data=([X_light_test, X_rv_test], y_test)\n",
    ")\n"
   ]
  },
  {
   "cell_type": "markdown",
   "id": "9757efcc",
   "metadata": {},
   "source": [
    "## Step 5: Evaluate the Model"
   ]
  },
  {
   "cell_type": "code",
   "execution_count": null,
   "id": "5428e632",
   "metadata": {},
   "outputs": [],
   "source": [
    "\n",
    "test_loss, test_acc = model.evaluate([X_light_test, X_rv_test], y_test)\n",
    "print(f\"Test Accuracy: {test_acc:.4f}\")\n"
   ]
  },
  {
   "cell_type": "markdown",
   "id": "90db8157",
   "metadata": {},
   "source": [
    "## Step 6: Visualize Training Performance"
   ]
  },
  {
   "cell_type": "code",
   "execution_count": null,
   "id": "d4585ebe",
   "metadata": {},
   "outputs": [],
   "source": [
    "\n",
    "plt.figure(figsize=(8, 5))\n",
    "plt.plot(history.history['accuracy'], label='Training Accuracy')\n",
    "plt.plot(history.history['val_accuracy'], label='Validation Accuracy')\n",
    "plt.xlabel('Epochs')\n",
    "plt.ylabel('Accuracy')\n",
    "plt.legend()\n",
    "plt.title('Model Accuracy over Epochs')\n",
    "plt.show()\n"
   ]
  },
  {
   "cell_type": "markdown",
   "id": "b064c5ab",
   "metadata": {},
   "source": [
    "## Step 7: Make Predictions"
   ]
  },
  {
   "cell_type": "code",
   "execution_count": null,
   "id": "cadd77b4",
   "metadata": {},
   "outputs": [],
   "source": [
    "\n",
    "new_light_curve = X_light_test[0:1]  # Select sample\n",
    "new_rv_data = X_rv_test[0:1]\n",
    "\n",
    "# Predict probability\n",
    "prediction = model.predict([new_light_curve, new_rv_data])\n",
    "print(f\"Predicted Exoplanet Probability: {prediction[0][0]:.4f}\")\n"
   ]
  },
  {
   "cell_type": "markdown",
   "id": "f2c6a9e8",
   "metadata": {},
   "source": [
    "## Step 8: Save the Model"
   ]
  },
  {
   "cell_type": "code",
   "execution_count": null,
   "id": "0e5a1480",
   "metadata": {},
   "outputs": [],
   "source": [
    "\n",
    "model.save(\"exoplanet_hybrid_model.h5\")  # Save model\n",
    "print(\"Model Saved Successfully!\")\n"
   ]
  }
 ],
 "metadata": {},
 "nbformat": 4,
 "nbformat_minor": 5
}